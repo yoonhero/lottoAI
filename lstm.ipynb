{
 "cells": [
  {
   "cell_type": "code",
   "execution_count": 3,
   "metadata": {},
   "outputs": [
    {
     "name": "stdout",
     "output_type": "stream",
     "text": [
      "row count:  991\n"
     ]
    }
   ],
   "source": [
    "import numpy as np\n",
    "\n",
    "rows = np.loadtxt(\"./lotto_lstm.csv\", delimiter=\",\")\n",
    "row_count = len(rows)\n",
    "\n",
    "print(\"row count: \", str(row_count))"
   ]
  },
  {
   "cell_type": "code",
   "execution_count": 15,
   "metadata": {},
   "outputs": [],
   "source": [
    "# 당첨번호를 원핫인코딩벡터(ohbin)으로 변환\n",
    "def numbers2ohbin(numbers):\n",
    "  ohbin = np.zeros(45) #45개의 빈칸\n",
    "\n",
    "  for i in range(6): \n",
    "    ohbin[int(numbers[i])-1] = 1\n",
    "  \n",
    "  return ohbin\n",
    "\n",
    "\n",
    "# 원핫인코딩벡터(ohbin)를 번호로 변환\n",
    "def ohbin2numbers(ohbin):\n",
    "\n",
    "    numbers = []\n",
    "    \n",
    "    for i in range(len(ohbin)):\n",
    "        if ohbin[i] == 1.0: # 1.0으로 설정되어 있으면 해당 번호를 반환값에 추가한다.\n",
    "            numbers.append(i+1)\n",
    "    \n",
    "    return numbers"
   ]
  },
  {
   "cell_type": "code",
   "execution_count": 16,
   "metadata": {},
   "outputs": [
    {
     "name": "stdout",
     "output_type": "stream",
     "text": [
      "ohbins\n",
      "X[0]: [0. 0. 0. 0. 0. 0. 0. 0. 0. 1. 0. 0. 0. 0. 0. 0. 0. 0. 0. 0. 0. 0. 1. 0.\n",
      " 0. 0. 0. 0. 1. 0. 0. 0. 1. 0. 0. 0. 1. 0. 0. 1. 0. 0. 0. 0. 0.]\n",
      "Y[0]: [0. 0. 0. 0. 0. 0. 0. 0. 1. 0. 0. 0. 1. 0. 0. 0. 0. 0. 0. 0. 1. 0. 0. 0.\n",
      " 1. 0. 0. 0. 0. 0. 0. 1. 0. 0. 0. 0. 0. 0. 0. 0. 0. 1. 0. 0. 0.]\n",
      "numbers\n",
      "X[0]: [10, 23, 29, 33, 37, 40]\n",
      "Y[0]: [9, 13, 21, 25, 32, 42]\n"
     ]
    }
   ],
   "source": [
    "numbers = rows[:, 1:7]\n",
    "ohbins = list(map(numbers2ohbin, numbers))\n",
    "\n",
    "x_samples = ohbins[0:row_count-1]\n",
    "y_samples = ohbins[1: row_count]\n",
    "\n",
    "print(\"ohbins\")\n",
    "print(\"X[0]: \" + str(x_samples[0]))\n",
    "print(\"Y[0]: \" + str(y_samples[0]))\n",
    "\n",
    "#번호로 표시\n",
    "print(\"numbers\")\n",
    "print(\"X[0]: \" + str(ohbin2numbers(x_samples[0])))\n",
    "print(\"Y[0]: \" + str(ohbin2numbers(y_samples[0])))"
   ]
  },
  {
   "cell_type": "code",
   "execution_count": null,
   "metadata": {},
   "outputs": [],
   "source": []
  }
 ],
 "metadata": {
  "interpreter": {
   "hash": "aee8b7b246df8f9039afb4144a1f6fd8d2ca17a180786b69acc140d282b71a49"
  },
  "kernelspec": {
   "display_name": "Python 3.9.1 64-bit",
   "language": "python",
   "name": "python3"
  },
  "language_info": {
   "codemirror_mode": {
    "name": "ipython",
    "version": 3
   },
   "file_extension": ".py",
   "mimetype": "text/x-python",
   "name": "python",
   "nbconvert_exporter": "python",
   "pygments_lexer": "ipython3",
   "version": "3.9.1"
  },
  "orig_nbformat": 4
 },
 "nbformat": 4,
 "nbformat_minor": 2
}
